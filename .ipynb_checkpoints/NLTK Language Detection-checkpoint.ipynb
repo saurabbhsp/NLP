{
 "cells": [
  {
   "cell_type": "code",
   "execution_count": 62,
   "metadata": {},
   "outputs": [],
   "source": [
    "import re"
   ]
  },
  {
   "cell_type": "code",
   "execution_count": 63,
   "metadata": {},
   "outputs": [],
   "source": [
    "def LoadCorpus(language):\n",
    "    with open(\"Data/\"+str(language)) as f:\n",
    "        text = f.read()\n",
    "    #text = re.sub(r\"\\r\\n\", \" \", text)\n",
    "    text = re.sub(r\"\\d+\", \"\", text)\n",
    "    text = text.replace(\"|\", \"\")\n",
    "    text = text.replace(\"\\n\", \" \")\n",
    "    return text"
   ]
  },
  {
   "cell_type": "code",
   "execution_count": 64,
   "metadata": {},
   "outputs": [],
   "source": [
    "def ngram(string, n):\n",
    "    charList = []\n",
    "    if n < len(string):\n",
    "        for p in range(len(string) - n + 1) :\n",
    "            tg = string[p:p+n]\n",
    "            charList.append(tg)\n",
    "    return charList"
   ]
  },
  {
   "cell_type": "code",
   "execution_count": 65,
   "metadata": {},
   "outputs": [],
   "source": [
    "def xgram(string):\n",
    "    return [w for n in range(1,4) for w in ngram(string.lower(),n)]"
   ]
  },
  {
   "cell_type": "code",
   "execution_count": 66,
   "metadata": {},
   "outputs": [],
   "source": [
    "def buildmodel(text):\n",
    "    model = {}\n",
    "\n",
    "    xgramme = xgram(text)\n",
    "    nr_of_ngs = len(xgramme)\n",
    "\n",
    "    for w in xgramme:\n",
    "        f = 1 + model.get(w,0)\n",
    "        model[w] = f\n",
    "    \n",
    "    for w in model:\n",
    "        model[w] = float(model[w]) / float(nr_of_ngs)\n",
    "\n",
    "    return model"
   ]
  },
  {
   "cell_type": "code",
   "execution_count": 67,
   "metadata": {},
   "outputs": [],
   "source": [
    "languages = [\"English\", \"Dutch\", \"French\", \"German\", \"Italian\", \"Romanian\", \"Spanish\"]\n",
    "modelDict = {}\n",
    "\n",
    "for language in languages:\n",
    "    text = LoadCorpus(language)\n",
    "    model = buildmodel(text)\n",
    "    modelDict[language] = model"
   ]
  },
  {
   "cell_type": "code",
   "execution_count": 68,
   "metadata": {},
   "outputs": [],
   "source": [
    "import math\n",
    "\n",
    "def cosine(a,b):\n",
    "    return sum([a[k]*b[k] for k in a if k in b]) / (math.sqrt(sum([a[k]**2 for k in a])) * math.sqrt(sum([b[k]**2 for k in b])))"
   ]
  },
  {
   "cell_type": "code",
   "execution_count": 69,
   "metadata": {},
   "outputs": [
    {
     "name": "stdout",
     "output_type": "stream",
     "text": [
      "The quick brown fox jumps over lazy dog\n",
      "Italian 0.6629813072710241\n",
      "German 0.6104604119869661\n",
      "French 0.6650084852508219\n",
      "Romanian 0.6320522641170209\n",
      "Spanish 0.6835991141779255\n",
      "English 0.6891341846992005\n",
      "Dutch 0.617581722106847\n"
     ]
    }
   ],
   "source": [
    "\"\"\"English\"\"\"\n",
    "text = \"The quick brown fox jumps over lazy dog\"\n",
    "print(text)\n",
    "textmodel = buildmodel(text)\n",
    "for m in modelDict:\n",
    "    print(m, cosine(modelDict[m],textmodel))"
   ]
  },
  {
   "cell_type": "code",
   "execution_count": 70,
   "metadata": {},
   "outputs": [
    {
     "name": "stdout",
     "output_type": "stream",
     "text": [
      "Der schnelle braune Fuchs springt über faulen Hund\n",
      "Italian 0.6645986950583889\n",
      "German 0.7821955567518508\n",
      "French 0.7225809611686217\n",
      "Romanian 0.6793393193689158\n",
      "Spanish 0.6839905971316019\n",
      "English 0.6861257534040425\n",
      "Dutch 0.7050858366842623\n"
     ]
    }
   ],
   "source": [
    "\"\"\"German\"\"\"\n",
    "text = \"Der schnelle braune Fuchs springt über faulen Hund\"\n",
    "print(text)\n",
    "textmodel = buildmodel(text)\n",
    "for m in modelDict:\n",
    "    print(m, cosine(modelDict[m],textmodel))"
   ]
  },
  {
   "cell_type": "code",
   "execution_count": 71,
   "metadata": {},
   "outputs": [
    {
     "name": "stdout",
     "output_type": "stream",
     "text": [
      "De vlugge bruine vos springt over luie hond\n",
      "Italian 0.6992118873019266\n",
      "German 0.7124269350982289\n",
      "French 0.7278369879429704\n",
      "Romanian 0.6996429848813718\n",
      "Spanish 0.6994821826990496\n",
      "English 0.6858960651369385\n",
      "Dutch 0.7061978904353363\n"
     ]
    }
   ],
   "source": [
    "\"\"\"Dutch\"\"\"\n",
    "text = \"De vlugge bruine vos springt over luie hond\"\n",
    "print(text)\n",
    "textmodel = buildmodel(text)\n",
    "for m in modelDict:\n",
    "    print(m, cosine(modelDict[m],textmodel))"
   ]
  },
  {
   "cell_type": "code",
   "execution_count": 72,
   "metadata": {},
   "outputs": [
    {
     "name": "stdout",
     "output_type": "stream",
     "text": [
      "Le renard brun rapide saute par-dessus un chien paresseux\n",
      "Italian 0.6896178531670681\n",
      "German 0.7485611237052727\n",
      "French 0.7693235728544291\n",
      "Romanian 0.7144022789783291\n",
      "Spanish 0.7458075151416639\n",
      "English 0.6763513544250095\n",
      "Dutch 0.7006106286760567\n"
     ]
    }
   ],
   "source": [
    "\"\"\"French\"\"\"\n",
    "text = \"Le renard brun rapide saute par-dessus un chien paresseux\"\n",
    "print(text)\n",
    "textmodel = buildmodel(text)\n",
    "for m in modelDict:\n",
    "    print(m, cosine(modelDict[m],textmodel))"
   ]
  },
  {
   "cell_type": "code",
   "execution_count": 73,
   "metadata": {},
   "outputs": [
    {
     "name": "stdout",
     "output_type": "stream",
     "text": [
      "La volpe marrone veloce salta sul cane pigro\n",
      "Italian 0.7640391770463243\n",
      "German 0.6309346023539755\n",
      "French 0.7257505953303935\n",
      "Romanian 0.7207123837023954\n",
      "Spanish 0.7412753464566461\n",
      "English 0.6802059241508205\n",
      "Dutch 0.6442671155840797\n"
     ]
    }
   ],
   "source": [
    "\"\"\"Italian\"\"\"\n",
    "text = \"La volpe marrone veloce salta sul cane pigro\"\n",
    "print(text)\n",
    "textmodel = buildmodel(text)\n",
    "for m in modelDict:\n",
    "    print(m, cosine(modelDict[m],textmodel))"
   ]
  },
  {
   "cell_type": "code",
   "execution_count": null,
   "metadata": {},
   "outputs": [],
   "source": [
    "\"\"\"Romanian\"\"\"\n",
    "text = \"Vulpea brună sărată peste câinele leneș\"\n",
    "print(text)\n",
    "textmodel = buildmodel(text)\n",
    "for m in modelDict:\n",
    "    print(m, cosine(modelDict[m],textmodel))"
   ]
  }
 ],
 "metadata": {
  "kernelspec": {
   "display_name": "Python 3",
   "language": "python",
   "name": "python3"
  },
  "language_info": {
   "codemirror_mode": {
    "name": "ipython",
    "version": 3
   },
   "file_extension": ".py",
   "mimetype": "text/x-python",
   "name": "python",
   "nbconvert_exporter": "python",
   "pygments_lexer": "ipython3",
   "version": "3.5.2"
  }
 },
 "nbformat": 4,
 "nbformat_minor": 2
}
